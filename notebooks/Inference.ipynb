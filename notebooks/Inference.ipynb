{
 "cells": [
  {
   "cell_type": "code",
   "execution_count": 1,
   "metadata": {},
   "outputs": [],
   "source": [
    "import tensorflow as tf\n",
    "import numpy as np\n",
    "import matplotlib.pyplot as plt\n",
    "import pandas as pd\n",
    "import pickle\n",
    "from tensorflow.keras.models import load_model"
   ]
  },
  {
   "cell_type": "code",
   "execution_count": 2,
   "metadata": {},
   "outputs": [],
   "source": [
    "model = load_model(\"model_05\")\n",
    "with open(\"text_vectorizer_config.pkl\", \"rb\") as f:\n",
    "    loaded_cfg = pickle.load(f)\n",
    "\n",
    "tokenizer = tf.keras.layers.experimental.preprocessing.TextVectorization.from_config(loaded_cfg)"
   ]
  },
  {
   "cell_type": "code",
   "execution_count": 14,
   "metadata": {},
   "outputs": [
    {
     "name": "stdout",
     "output_type": "stream",
     "text": [
      "[[0.99876964]]\n"
     ]
    }
   ],
   "source": [
    "test_sentence = [\"\"\"\"Ikinatutuwa ngayon ng mga netizens ang personal na pagbati at pagkanta ni Pangulong Rodrigo Duterte sa kaarawan ni Philippine National Police Chief Oscar Albayalde. Ayon sa ilang mga netizens, ito raw ang unang pagkakataon nilang makita ang isang Presidente \"\"\"]\n",
    "\n",
    "# Make predictions\n",
    "pred = model.predict(test_sentence)\n",
    "\n",
    "# Print the predictions\n",
    "print(pred)"
   ]
  },
  {
   "cell_type": "code",
   "execution_count": null,
   "metadata": {},
   "outputs": [],
   "source": []
  },
  {
   "cell_type": "code",
   "execution_count": null,
   "metadata": {},
   "outputs": [],
   "source": []
  }
 ],
 "metadata": {
  "kernelspec": {
   "display_name": "Python 3 (ipykernel)",
   "language": "python",
   "name": "python3"
  },
  "language_info": {
   "codemirror_mode": {
    "name": "ipython",
    "version": 3
   },
   "file_extension": ".py",
   "mimetype": "text/x-python",
   "name": "python",
   "nbconvert_exporter": "python",
   "pygments_lexer": "ipython3",
   "version": "3.7.9"
  }
 },
 "nbformat": 4,
 "nbformat_minor": 2
}
