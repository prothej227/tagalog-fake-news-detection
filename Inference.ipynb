{
 "cells": [
  {
   "cell_type": "code",
   "execution_count": 2,
   "metadata": {},
   "outputs": [],
   "source": [
    "import tensorflow as tf\n",
    "import numpy as np\n",
    "import matplotlib.pyplot as plt\n",
    "import pandas as pd\n",
    "import pickle\n",
    "from tensorflow.keras.models import load_model"
   ]
  },
  {
   "cell_type": "code",
   "execution_count": 3,
   "metadata": {},
   "outputs": [
    {
     "name": "stderr",
     "output_type": "stream",
     "text": [
      "2024-03-31 20:56:24.828445: W tensorflow/stream_executor/platform/default/dso_loader.cc:64] Could not load dynamic library 'libcuda.so.1'; dlerror: libcuda.so.1: cannot open shared object file: No such file or directory\n",
      "2024-03-31 20:56:24.828517: W tensorflow/stream_executor/cuda/cuda_driver.cc:326] failed call to cuInit: UNKNOWN ERROR (303)\n",
      "2024-03-31 20:56:24.828564: I tensorflow/stream_executor/cuda/cuda_diagnostics.cc:156] kernel driver does not appear to be running on this host (ideapadv110): /proc/driver/nvidia/version does not exist\n",
      "2024-03-31 20:56:24.829492: I tensorflow/core/platform/cpu_feature_guard.cc:142] This TensorFlow binary is optimized with oneAPI Deep Neural Network Library (oneDNN) to use the following CPU instructions in performance-critical operations:  AVX2 FMA\n",
      "To enable them in other operations, rebuild TensorFlow with the appropriate compiler flags.\n",
      "2024-03-31 20:56:33.214282: I tensorflow/compiler/mlir/mlir_graph_optimization_pass.cc:176] None of the MLIR Optimization Passes are enabled (registered 2)\n",
      "2024-03-31 20:56:33.219391: I tensorflow/core/platform/profile_utils/cpu_utils.cc:114] CPU Frequency: 1999965000 Hz\n"
     ]
    }
   ],
   "source": [
    "model = load_model(\"model_05\")\n",
    "with open(\"text_vectorizer_config.pkl\", \"rb\") as f:\n",
    "    loaded_cfg = pickle.load(f)\n",
    "\n",
    "tokenizer = tf.keras.layers.experimental.preprocessing.TextVectorization.from_config(loaded_cfg)"
   ]
  },
  {
   "cell_type": "code",
   "execution_count": 22,
   "metadata": {},
   "outputs": [
    {
     "name": "stdout",
     "output_type": "stream",
     "text": [
      "[[0.99855405]]\n"
     ]
    }
   ],
   "source": [
    "test_sentence = [\"\"\"\n",
    "Butata ang inabot ng mga militanteng estudyante at ng makakaliwang kongresista sa sagot ng aktress na si Aiko Melendez sa Instagram post ni Davao City Mayor Sara Duterte. \n",
    "Sa social media post ni Duterte, binanatan nito si ACT Teachers Representative Antonio Tinio sa tila paggamit sa ilang kabataan sa kanilang rally habang panahon ng pag-aaral. \n",
    "Ang post naman ni Mayor Sara ay sinang-ayunan ni Melendez. \"Imbes na pag aaral ang atupagin, rally at puro reklamo nalang ang ginagawa. Maraming mga bata ang ninanais na makapag aral at pinapangarap na sana sila ang nakakapag aral than sa inyo na ala inatupag kundi magreklamo. Do they even know why they are there? If they love our country as they always claim, shouldn't they prioritize our children to study instead of being in the streets?\n",
    " \"\"\"]\n",
    "\n",
    "# Make predictions\n",
    "pred = model.predict(test_sentence)\n",
    "\n",
    "# Print the predictions\n",
    "print(pred)"
   ]
  }
 ],
 "metadata": {
  "kernelspec": {
   "display_name": "py37",
   "language": "python",
   "name": "python3"
  },
  "language_info": {
   "codemirror_mode": {
    "name": "ipython",
    "version": 3
   },
   "file_extension": ".py",
   "mimetype": "text/x-python",
   "name": "python",
   "nbconvert_exporter": "python",
   "pygments_lexer": "ipython3",
   "version": "3.7.9"
  }
 },
 "nbformat": 4,
 "nbformat_minor": 2
}
