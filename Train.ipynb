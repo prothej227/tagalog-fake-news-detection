{
 "cells": [
  {
   "cell_type": "markdown",
   "metadata": {},
   "source": [
    "### Filipino Fake News Detection"
   ]
  },
  {
   "cell_type": "code",
   "execution_count": 1,
   "metadata": {},
   "outputs": [
    {
     "name": "stderr",
     "output_type": "stream",
     "text": [
      "2024-03-31 04:03:32.894360: W tensorflow/stream_executor/platform/default/dso_loader.cc:64] Could not load dynamic library 'libcudart.so.11.0'; dlerror: libcudart.so.11.0: cannot open shared object file: No such file or directory\n",
      "2024-03-31 04:03:32.894392: I tensorflow/stream_executor/cuda/cudart_stub.cc:29] Ignore above cudart dlerror if you do not have a GPU set up on your machine.\n"
     ]
    }
   ],
   "source": [
    "import tensorflow as tf\n",
    "import numpy as np\n",
    "import matplotlib.pyplot as plt\n",
    "from tensorflow.keras.layers.experimental.preprocessing import TextVectorization"
   ]
  },
  {
   "cell_type": "code",
   "execution_count": 2,
   "metadata": {},
   "outputs": [],
   "source": [
    "tf.random.set_seed(42)"
   ]
  },
  {
   "cell_type": "code",
   "execution_count": 4,
   "metadata": {},
   "outputs": [
    {
     "data": {
      "text/html": [
       "<div>\n",
       "<style scoped>\n",
       "    .dataframe tbody tr th:only-of-type {\n",
       "        vertical-align: middle;\n",
       "    }\n",
       "\n",
       "    .dataframe tbody tr th {\n",
       "        vertical-align: top;\n",
       "    }\n",
       "\n",
       "    .dataframe thead th {\n",
       "        text-align: right;\n",
       "    }\n",
       "</style>\n",
       "<table border=\"1\" class=\"dataframe\">\n",
       "  <thead>\n",
       "    <tr style=\"text-align: right;\">\n",
       "      <th></th>\n",
       "      <th>label</th>\n",
       "      <th>article</th>\n",
       "    </tr>\n",
       "  </thead>\n",
       "  <tbody>\n",
       "    <tr>\n",
       "      <th>0</th>\n",
       "      <td>0</td>\n",
       "      <td>Ayon sa TheWrap.com, naghain ng kaso si Krupa,...</td>\n",
       "    </tr>\n",
       "    <tr>\n",
       "      <th>1</th>\n",
       "      <td>0</td>\n",
       "      <td>Kilala rin ang singer sa pagkumpas ng kanyang ...</td>\n",
       "    </tr>\n",
       "    <tr>\n",
       "      <th>2</th>\n",
       "      <td>0</td>\n",
       "      <td>BLANTYRE, Malawi (AP) -- Bumiyahe patungong Ma...</td>\n",
       "    </tr>\n",
       "    <tr>\n",
       "      <th>3</th>\n",
       "      <td>0</td>\n",
       "      <td>Kasama sa programa ang pananalangin, bulaklak ...</td>\n",
       "    </tr>\n",
       "    <tr>\n",
       "      <th>4</th>\n",
       "      <td>0</td>\n",
       "      <td>Linisin ang Friendship Department dahil dadala...</td>\n",
       "    </tr>\n",
       "  </tbody>\n",
       "</table>\n",
       "</div>"
      ],
      "text/plain": [
       "   label                                            article\n",
       "0      0  Ayon sa TheWrap.com, naghain ng kaso si Krupa,...\n",
       "1      0  Kilala rin ang singer sa pagkumpas ng kanyang ...\n",
       "2      0  BLANTYRE, Malawi (AP) -- Bumiyahe patungong Ma...\n",
       "3      0  Kasama sa programa ang pananalangin, bulaklak ...\n",
       "4      0  Linisin ang Friendship Department dahil dadala..."
      ]
     },
     "execution_count": 4,
     "metadata": {},
     "output_type": "execute_result"
    }
   ],
   "source": [
    "import pandas as pd\n",
    "from sklearn.model_selection import train_test_split\n",
    "\n",
    "data = pd.read_csv(\"full.csv\")\n",
    "data.head()"
   ]
  },
  {
   "cell_type": "code",
   "execution_count": 6,
   "metadata": {},
   "outputs": [],
   "source": [
    "shuffle_data = data.sample(frac=1, random_state=42)"
   ]
  },
  {
   "cell_type": "markdown",
   "metadata": {},
   "source": [
    "Split data into train-test set"
   ]
  },
  {
   "cell_type": "code",
   "execution_count": 7,
   "metadata": {},
   "outputs": [],
   "source": [
    "train_sentences, val_sentences, train_labels, val_labels = train_test_split(\n",
    "                                                shuffle_data['article'].to_numpy(), \n",
    "                                                shuffle_data['label'].to_numpy(),\n",
    "                                                test_size=0.2, \n",
    "                                                stratify=data['label'], \n",
    "                                                random_state=42\n",
    "                                            )"
   ]
  },
  {
   "cell_type": "code",
   "execution_count": 6,
   "metadata": {},
   "outputs": [
    {
     "data": {
      "text/plain": [
       "(2564, 2564, 642, 642)"
      ]
     },
     "execution_count": 6,
     "metadata": {},
     "output_type": "execute_result"
    }
   ],
   "source": [
    "len(train_sentences), len(train_labels), len(val_sentences), len(val_labels)"
   ]
  },
  {
   "cell_type": "code",
   "execution_count": 8,
   "metadata": {},
   "outputs": [
    {
     "data": {
      "text/plain": [
       "(array(['Para sa mga nag aabang ng Social Security Contribution Table as taong 2019 narito ang maging guide natin. Naka-iskedyul ng mga kontribusyon para sa self-employed, Mga Overseas Filipino Worker at boluntaryong mga miyembro, tingnan ang listahan sa ibaba. Scheduled of contributions for self-employed, Overseas Filipino Workers and voluntary members, see the list below. Note that the minimum salary credit for OFW member is P5,000.',\n",
       "        'Masaya niyang ibinalita na annulled na o napawalang-bisa na ang kasal niya kay Meryll Soriano. Naging bunga ng pagsasama nila ng aktres ang kaisa-isa nilang anak na si Elijah. \"After six to seven years , I\\'m legally annulled,\" pahayag ni Bernard. Wala na raw sagabal sa kanila ni Jerika kapag naisip na nilang magpakasal. \"We are on the right path. Legally, I can ask her,\\' sey ng aktor. Handa na rin daw siyang pakasalan si Jerika dahil ito ang ipinangako niya sa sarili, ang ihatid sa altar ang anak ni Manila Mayor Joseph \"Erap\" Estrada. \"I don\\'t see the relationship going anywhere but there,\" mariin niyang sabi, na sinalo naman ni Jerika ng, \"Walang nagmamadali.\" \"If they gave me enough shows to make that much,why not? As long as we got the confirmation, I\\'m happy already. If it will lead to marriage, the sooner, the better,\" sey pa ng aktor.',\n",
       "        'Kasabay ng pagkalat ng #PABoost isyu, lumabas din ngayon sa social media ang kasal ng anti-government blogger na si Jover Laurio (Pinoy Ako Blog). Kapansin-pansin sa kanyang wedding invitation na ilang kilalang personalidad mula sa mundo ng media at politika ang kanyang mga wedding sponsors. At ang karamihan pa sa mga ito ay mga kilalang oposisyon sa administrasyon ni Pangulong Rodrigo Duterte. (Para magkaroon kayo ng ideya kung ano ang #PABoost isyu, basahin ang kaugnay na artikulo dito.) Ilan sa mga kilalang politiko sa kanyang invitation ay sina Vice President Leni Robredo, Senador Risa Hontiveros, Antonio Trillanes, Bam Aquino, Kiko Pangilinan at Congressman Gary Alejano. Makikita rin sa imbitasyon sina Rappler CEO Maria Ressa at si Kris Aquino. Isa sa madalas na binabanat kay Jover ng pro-government blogger at university lecturer na si Sass Rogando Sasot ay ang sinabi noon ni Jover na isa lang umano siyang ulam vendor. Pero malinaw na ngayon na may koneksyon pala ang taong ito sa ilang politiko sa oposisyon. Matatandaang may pinahapyawan na blogger si Attorney Jesus Falcis na tumatanggap daw ng P25,000 mula sa isang crazy rich asian. Hindi pinangalanan ni Falcis ang blogger. Pero noong panahon na iyon ay nagkakagirian na sila ni Jover dahil sa isyu ni Kris Aquino at ng kuya ni Jesus na si Nicko Falcis, dating financial manager ng aktress. Basahin ang reaksyon ng mga tao sa wedding invitation ni Jover. Source: 1 | 2 | 3 |',\n",
       "        'Kasama sa programa ang pananalangin, bulaklak at pagsindi ng kandila para sa mga biktima ng massacre. Makikibahagi ang iba ibang kasapi ng media at ang grupo ng National Union of Journalists of the Philippines (NUJP). Ang hindi makakasama na mga kaanak ng Maguindanao massacre victims ngayong Sabado ay inaasahang bukas na lamang tutungo sa site kasama si Department of Secretary (DoJ) Secretary Leila De Lima.',\n",
       "        'Ipinagdiinan ni dating senador Ramon \"Bong\" Revilla, Jr. na magtatrabaho siya nang husto at hindi sasayaw ng \"budots\" sa Senado; bagay na binabatikos sa kanya ng mga kritiko. Ayon sa panayam kay Revilla ng AM radio station na DWIZ noong Sabado, Mayo 18, 2019, sinabi niyang magpe-perform siya sa Senado, hindi ng \"budots\", kundi ng serbisyo-publiko para sa mga mamamayang muling nagtiwala sa kanyang kakayahan, sa kabila ng mga pambabatikos na kanyang natatamo sa social media, at pagkakaugnay niya sa multi-billion pork barrel scam. \"Well you know, kung paano ako magtrabaho, kung anuman ang komite nating mahawakan, tayo ay magsisilbi sa bayan,\" paliwanag ni Revilla. Matatandaang ang naging campaign advertisement ni Revilla sa telebisyon ay ang pagsayaw niya ng \"budots\" na umani ng katakot-takot na kritisismo. Biro pa niya, handa niyang turuan ng budots ang kanyang mga kritiko upang maibsan ang tensyon sa mga ito at huwag maging masyadong seryoso sa buhay. Naging mahigpit ang labanan sa pagitan ng ika-10 hanggang ika-12 pwesto sa pagka-senador, lalo\\'t urong-sulong si senatorial candidate Bam Aquino sa ika-13 pwesto sa pagpasok sa Magic 12. Si Bong Revilla ay anak ng dating senador at aktor na si Ramon Revilla, Sr. Unang naging senador si Bong Revilla noong 2004 bilang successor ng kanyang ama. Muli siyang tumakbo at nanguna sa senatorial race noong 2010. Noong 2014, nadawit ang kanyang pangalan kay \"Janet Lim Napoles\", dahil sa usapin ng pork barrel scam at inakusahan ng pandarambong, kasama sina dating senador Juan Ponce Enrile at Jinggoy Estrada. Noong 2018, siya ay pinawalang-sala sa kasong ito subalit ipinasasauli sa pamahalaan ang 124.5 milyong piso dahil sa civil liability. Bilang artista, si Revilla ay nakilala sa pagbida sa iba\\'t ibang mga programang pantelebisyon at pelikula tulad ng \"Ang Panday\",  \"Agimat\", at marami pang iba.',\n",
       "        'Ayon kay TATAP President at dati ring numero unong paddle wielder ng bansa na si Ting Ledesma, ang nasa likod ng unang pagdaraos ng top-level ITTF event sa bansa, na sisikapin nilang mas maging matagumpay ang ikalawang edisyon ng torneo na tatampukan ng mas malaking premyo. \"TATAP will be taking table tennis to new heights this year. Last year we hosted the ITTF GAC Group World Tour Challenge Series Philippine Open, and now we want to make it better and more exciting,\" ani Ledesma. \"We have attracted some of the top players last year, including Singapore\\'s Feng Chang Wei, and the country has vowed to double their participation this year.\" Noong nakaraang taon, ang event ay ginanap sa Subic Bay, Olongapo kung saan ay naging mainit ang pagtanggap na ipinakita, hindi lamang ng mga player, kundi ang maging ang lahat ng table tennis afficionados kaya nagdesisyon ang TATAP na ulitin ito. Kasama din sa nakahanay na mga aktibidad ngayong taon ang pagdaraos ng Super League, isang event kung saan ay kabalikat nila ang local government units (LGUs) na ang layunin ay tumuklas ng mga bagong talento mula sa iba`t ibang bahagi ng bansa sa darating na Marso. Target din ng TATAP na ipadala ang kanilang top ten national players sa Southeast Asian Games na gaganapin sa Singapore sa Hunyo.',\n",
       "        '\"There\\'s a cyberlibel ngayon. That\\'s part of the anti-cybercrime law,\" Mukhang malilintikan kung magkakataon si alyas Bikoy, ang lalaki sa video na may pamagat na \"Ang Totoong Narcolist\". Sa naturang video, pinaratangan ni Bikoy ang mga anak ni Pangulong Rodrigo Duterte na sina Paolo at Veronica na sangkot umano sa kalakaran ng droga. Ayon kay Philippine National Police Chief Oscar Albayalde, hahanapin at kikilalanin daw nila ang tao sa likod ng nasabing libelous video. \"As of this time, wala pa namang lumalapit na complainant kasi sa amin (no one has filed a complaint yet). But we will do the initiative to identify the person,\" sabi ni Albyalde. Posibleng ginagamit din umano ang video para linlangin ang mga botante. Si Paolo Duterte ay tumatakbo bilang kongresista. \"We really do not know kung nagpapagamit siya sa kung sino-sino, kung nagja-jive ito sa upcoming midterm election, baka nagpapagamit siya kung kani-kaninong group or political party. \\'Di natin masabi. For all you know, this is part of a propaganda this coming midterm elections,\" dagdag pa ni Albayalde. Magugunitang umalma si Maguindanao Mayor Datu Zamzamin sa video. Ayon sa alkalde, ninakaw daw ang kanyang pirma at ginamit sa mga dokumento na ipinakita ni Bikoy sa video. Ang nasabing video ay nakitaan din ng mali ng mga taga-suporta ng Duterte Administration. Ang video ay binura na sa nasabing Youtube channel. Source: CNN | INQ | Rap',\n",
       "        'Mayroon nang dalawang outs at nakatungtong ng first base ang kakamping si John Christopher Pantan, hinataw ng Herrera ang naturang winner kontra kay rookie pitcher Paolo Macasaet upang giyahan ang Fighting Maroons sa ikaapat nilang panalo sa loob ng walong laro habang ipinatikim naman nila sa Blue Eagles ang una nilang talo kontra pitong panalo. Sa iba pang laban, umangat ang De La Salle University sa kartadang 6-2 panalo- talo sa pamamagitan ng 11-5 panalo Laban sa Adamson University,na bumagsak naman sa barahang 1-7, panalo-talo. Sa softball, nagposte naman ang De La Salle ng 10-0 four-inning na panalo kontra Ateneo, habang ginulantang naman ng National University ang University of Santo Tomas, 9-3 at namayani naman ang UP laban sa University of the East (UE), 8-2. Ang panalo ang ikalima ng Lady Archers sa pitong laban na nagpanatili sa kanila sa ikalawang posisyon sa likod ng defending champion at unbeaten Adamson University (6-0) na nanaig naman kontra Ateneo, 4-3.',\n",
       "        \"CHARLOTTE, N.C. (AP)- Maaaring ang Detroit Pistons ay 11 games under .500, ngunit sinimulan na nilang isipin ang hinggil sa postseason, sinasabing may posibilidad na katotohanan sa kanilang paglalaro sa Eastern Conference. ''We're in the hunt right now,'' pahayag ni forward Greg Monroe. ''We're jockeying for position. There are a lot of games left but these are the games with people right in front of us that mean a lot. Every game we have to come knowing that we are jockeying for position.''\",\n",
       "        '\"Huwag matakot, gobernador, mayor. Please consider that the Otso Diretso is already endorsed by your Catholic bishops secretly. So please, kung kayo ay talagang leader, representante ng inyong community, i-represent ang interes ninyo at hindi represent the interest of the President.\" Ganito ang naging pahayag ni civic leader Samira Gutoc sa kanilang pagbisita sa Cebu kasama ng iba pang kandidato ng Opposition Slate Otso Diretso at ni Vice President Leni Robredo upang mangampanya para sa darating na May 13 midterm elections, mula sa ulat ng Inquirer. Ang Cebu ang probinsyang may pinakamaraming rehistradong botante sa bansa, na may 3,082,621, batay sa datos ng Commission on Elections (Comelec). Bagama\\'t kakaunti lamang ang suportang natatanggap ng Otso Diretso mula sa lokal na pamahalaan ng Cebu ay kanya-kanyang pahayag pa rin ng pag-asa, pangungumbinsi at panghihikayat ang bawat kandidato ng oposisyon. \"Dahil nga malakas \\'yung kanilang kontrol doon sa mga pamahalaang lokal, nakukuha nila \\'yung mga hakot crowds. Sa amin naman \\'yung mga hugot crowds. Ito \\'yung mga galing sa iba\\'t ibang sektor na may hugot, \\'yung mga may frustrations, may disappointment, may gustong iparating sa mga mamamamayan. Cebu has a history of voting the opposition, given the province\\'s residents\\' open-mindedness,\" saad ni dating Solicitor General Pilo Hilbay. Ayon naman kay veteran election lawyer Romy Macalintal, nasa kamay pa rin daw ng mga botante ang pinal na desisyon sa kabila ng maliit na suportang natatangggap umano ng kanilang partido mula sa mga opisyal ng gobyerno. \"Kung sinasabi nila na nasa kanila ang mga elected officials ng Cebu, ay kanila na iyon. Pero para sa akin, ang hinahanap namin dito, \\'yung mga tunay na botante ng province of Cebu,\" ani Macalintal. Samantala, iginiit naman nina Gutoc at Magdalo Rep. Gary Alejano na mayroon umanong ilang opisyal ng pamahalaan na nagpahayag na ng kanilang pagsuporta sa oposisyon slate nang palihim, subalit nangangamba umano ang mga ito na isama sila sa \"narco list\" ng gobyerno at tanggalan ng kani-kanilang pondo. \"Pero alam niyo naman na kahit ganoon na ang nangyayari, marami namang local officials na sumusuporta na hindi nakikita sa publiko,\" saad ni Alejano. Ayon naman kay human rights lawyer Chel Diokno, kaya umano sila bumabalik sa Cebu ay dahil mahal na mahal nila ang probinsyang ito at ang mga residente nito. Naniniwala rin umano siya na mahal din ng mga Cebuano at Cebuana ang Otso Diretso. \"Ang magpapanalo sa kahit kaninong kandidato sa Otso Dirteso ang tao mismo. Kaya ang Otso Diretso ay people\\'s movement for change,\" wika naman ni dating House Deputy Speaker Erin Tanada. Source: INQ'],\n",
       "       dtype=object),\n",
       " array([1, 0, 1, 0, 1, 0, 1, 0, 0, 1]))"
      ]
     },
     "execution_count": 8,
     "metadata": {},
     "output_type": "execute_result"
    }
   ],
   "source": [
    "# View the first 10 training sentences and their labels\n",
    "train_sentences[:10], train_labels[:10]"
   ]
  },
  {
   "cell_type": "code",
   "execution_count": 9,
   "metadata": {},
   "outputs": [],
   "source": [
    "max_vocab_length = 10000\n",
    "max_length = max([len(x.split(\" \")) for x in data['article']])"
   ]
  },
  {
   "cell_type": "code",
   "execution_count": 10,
   "metadata": {},
   "outputs": [
    {
     "name": "stderr",
     "output_type": "stream",
     "text": [
      "2024-03-31 04:05:06.790567: W tensorflow/stream_executor/platform/default/dso_loader.cc:64] Could not load dynamic library 'libcuda.so.1'; dlerror: libcuda.so.1: cannot open shared object file: No such file or directory\n",
      "2024-03-31 04:05:06.790641: W tensorflow/stream_executor/cuda/cuda_driver.cc:326] failed call to cuInit: UNKNOWN ERROR (303)\n",
      "2024-03-31 04:05:06.790687: I tensorflow/stream_executor/cuda/cuda_diagnostics.cc:156] kernel driver does not appear to be running on this host (ideapadv110): /proc/driver/nvidia/version does not exist\n",
      "2024-03-31 04:05:06.794216: I tensorflow/core/platform/cpu_feature_guard.cc:142] This TensorFlow binary is optimized with oneAPI Deep Neural Network Library (oneDNN) to use the following CPU instructions in performance-critical operations:  AVX2 FMA\n",
      "To enable them in other operations, rebuild TensorFlow with the appropriate compiler flags.\n"
     ]
    }
   ],
   "source": [
    "text_vectorizer = TextVectorization(max_tokens=max_vocab_length,\n",
    "                                    output_mode=\"int\",\n",
    "                                    output_sequence_length=max_length)"
   ]
  },
  {
   "cell_type": "code",
   "execution_count": 11,
   "metadata": {},
   "outputs": [],
   "source": [
    "# Fit the text vectorizer to the training text\n",
    "text_vectorizer.adapt(train_sentences)"
   ]
  },
  {
   "cell_type": "code",
   "execution_count": 12,
   "metadata": {},
   "outputs": [
    {
     "data": {
      "text/plain": [
       "<tensorflow.python.keras.layers.embeddings.Embedding at 0x7204929c5e50>"
      ]
     },
     "execution_count": 12,
     "metadata": {},
     "output_type": "execute_result"
    }
   ],
   "source": [
    "tf.random.set_seed(42)\n",
    "from tensorflow.keras import layers\n",
    "\n",
    "embedding = layers.Embedding(input_dim=max_vocab_length, # set input shape\n",
    "                             output_dim=128, # set size of embedding vector\n",
    "                             embeddings_initializer=\"uniform\", # default, intialize randomly\n",
    "                             input_length=max_length, # how long is each input\n",
    "                             name=\"embedding_1\") \n",
    "\n",
    "embedding"
   ]
  },
  {
   "cell_type": "code",
   "execution_count": 13,
   "metadata": {},
   "outputs": [
    {
     "name": "stdout",
     "output_type": "stream",
     "text": [
      "Original text:\n",
      "Ito ang inihayag ni Department of Justice (DoJ) Secretary Leila de Lima matapos makausap ni Pangulong Aquino si Malaysian Prime Minister Najib Razak hinggil sa kaso ni Amalilio sa ginanap na 25th ASEAN-Republic of Korea commemorative summit sa Seoul.      \n",
      "\n",
      "Embedded version:\n"
     ]
    },
    {
     "data": {
      "text/plain": [
       "<tf.Tensor: shape=(1, 1076, 128), dtype=float32, numpy=\n",
       "array([[[ 0.04978979, -0.0019431 , -0.00039934, ..., -0.01621551,\n",
       "          0.03926425,  0.02467387],\n",
       "        [-0.04364428,  0.02437404, -0.03696011, ..., -0.04763393,\n",
       "          0.02931459,  0.0068561 ],\n",
       "        [ 0.03233189,  0.02018218, -0.03004571, ..., -0.01061187,\n",
       "          0.01735066,  0.01628271],\n",
       "        ...,\n",
       "        [ 0.01645621, -0.00589932, -0.01471175, ..., -0.02511839,\n",
       "          0.00912381, -0.00024097],\n",
       "        [ 0.01645621, -0.00589932, -0.01471175, ..., -0.02511839,\n",
       "          0.00912381, -0.00024097],\n",
       "        [ 0.01645621, -0.00589932, -0.01471175, ..., -0.02511839,\n",
       "          0.00912381, -0.00024097]]], dtype=float32)>"
      ]
     },
     "execution_count": 13,
     "metadata": {},
     "output_type": "execute_result"
    }
   ],
   "source": [
    "# Get a random sentence from training set\n",
    "import random\n",
    "random_sentence = random.choice(train_sentences)\n",
    "print(f\"Original text:\\n{random_sentence}\\\n",
    "      \\n\\nEmbedded version:\")\n",
    "\n",
    "# Embed the random sentence (turn it into numerical representation)\n",
    "sample_embed = embedding(text_vectorizer([random_sentence]))\n",
    "sample_embed"
   ]
  },
  {
   "cell_type": "code",
   "execution_count": 22,
   "metadata": {},
   "outputs": [],
   "source": [
    "# Set random seed and create embedding layer (new embedding layer for each model)\n",
    "tf.random.set_seed(42)\n",
    "from tensorflow.keras import layers\n",
    "\n",
    "# Build a Bidirectional RNN in TensorFlow\n",
    "inputs = layers.Input(shape=(1,), dtype=\"string\")\n",
    "x = text_vectorizer(inputs)\n",
    "x = embedding(x)\n",
    "# x = layers.Bidirectional(layers.LSTM(64, return_sequences=True))(x) # stacking RNN layers requires return_sequences=True\n",
    "x = layers.Bidirectional(layers.LSTM(64))(x) # bidirectional goes both ways so has double the parameters of a regular LSTM layer\n",
    "outputs = layers.Dense(1, activation=\"sigmoid\")(x)\n",
    "model = tf.keras.Model(inputs, outputs, name=\"Bidirectional_model\")\n"
   ]
  },
  {
   "cell_type": "code",
   "execution_count": 23,
   "metadata": {},
   "outputs": [],
   "source": [
    "# Compile\n",
    "model.compile(loss=\"binary_crossentropy\",\n",
    "                optimizer=tf.keras.optimizers.Adam(),\n",
    "                metrics=[\"accuracy\"])"
   ]
  },
  {
   "cell_type": "code",
   "execution_count": 24,
   "metadata": {},
   "outputs": [
    {
     "name": "stdout",
     "output_type": "stream",
     "text": [
      "Model: \"Bidirectional_model\"\n",
      "_________________________________________________________________\n",
      "Layer (type)                 Output Shape              Param #   \n",
      "=================================================================\n",
      "input_3 (InputLayer)         [(None, 1)]               0         \n",
      "_________________________________________________________________\n",
      "text_vectorization (TextVect (None, 1076)              0         \n",
      "_________________________________________________________________\n",
      "embedding_1 (Embedding)      (None, 1076, 128)         1280000   \n",
      "_________________________________________________________________\n",
      "bidirectional_2 (Bidirection (None, 128)               98816     \n",
      "_________________________________________________________________\n",
      "dense_2 (Dense)              (None, 1)                 129       \n",
      "=================================================================\n",
      "Total params: 1,378,945\n",
      "Trainable params: 1,378,945\n",
      "Non-trainable params: 0\n",
      "_________________________________________________________________\n"
     ]
    }
   ],
   "source": [
    "# Get a summary of our bidirectional model\n",
    "model.summary()"
   ]
  },
  {
   "cell_type": "code",
   "execution_count": 27,
   "metadata": {},
   "outputs": [
    {
     "name": "stdout",
     "output_type": "stream",
     "text": [
      "Epoch 1/5\n",
      "81/81 [==============================] - 117s 1s/step - loss: 0.4231 - accuracy: 0.8186 - val_loss: 0.3781 - val_accuracy: 0.8364\n",
      "Epoch 2/5\n",
      "81/81 [==============================] - 117s 1s/step - loss: 0.1552 - accuracy: 0.9571 - val_loss: 0.1402 - val_accuracy: 0.9579\n",
      "Epoch 3/5\n",
      "81/81 [==============================] - 123s 2s/step - loss: 0.0574 - accuracy: 0.9856 - val_loss: 0.1183 - val_accuracy: 0.9642\n",
      "Epoch 4/5\n",
      "81/81 [==============================] - 114s 1s/step - loss: 0.0286 - accuracy: 0.9930 - val_loss: 0.1177 - val_accuracy: 0.9657\n",
      "Epoch 5/5\n",
      "81/81 [==============================] - 119s 1s/step - loss: 0.0057 - accuracy: 0.9992 - val_loss: 0.1201 - val_accuracy: 0.9688\n"
     ]
    }
   ],
   "source": [
    "history = model.fit(train_sentences,\n",
    "                              train_labels,\n",
    "                              epochs=5,\n",
    "                              validation_data=(val_sentences, val_labels))"
   ]
  },
  {
   "cell_type": "code",
   "execution_count": 28,
   "metadata": {},
   "outputs": [
    {
     "data": {
      "image/png": "[encoded data removed]",
      "text/plain": [
       "<Figure size 640x480 with 1 Axes>"
      ]
     },
     "metadata": {},
     "output_type": "display_data"
    }
   ],
   "source": [
    "def plot_history(history):\n",
    "    plt.plot(history.history['accuracy'], label='accuracy')\n",
    "    plt.plot(history.history['val_accuracy'], label = 'val_accuracy')\n",
    "    plt.xlabel('Epoch')\n",
    "    plt.ylabel('Accuracy')\n",
    "    plt.ylim([0, 1])\n",
    "    plt.legend(loc='lower right')\n",
    "    plt.show()\n",
    "\n",
    "plot_history(history)"
   ]
  },
  {
   "cell_type": "code",
   "execution_count": null,
   "metadata": {},
   "outputs": [],
   "source": []
  }
 ],
 "metadata": {
  "kernelspec": {
   "display_name": "py37",
   "language": "python",
   "name": "python3"
  },
  "language_info": {
   "codemirror_mode": {
    "name": "ipython",
    "version": 3
   },
   "file_extension": ".py",
   "mimetype": "text/x-python",
   "name": "python",
   "nbconvert_exporter": "python",
   "pygments_lexer": "ipython3",
   "version": "3.7.9"
  }
 },
 "nbformat": 4,
 "nbformat_minor": 2
}
